{
 "cells": [
  {
   "cell_type": "code",
   "execution_count": 16,
   "metadata": {},
   "outputs": [],
   "source": [
    "import pandas as pd\n",
    "\n",
    "\n",
    "def GetClaim(string):\n",
    "    start = 1 \n",
    "    end = string.find(' ')\n",
    "    return string[start:end]\n",
    "def GetLeftOff(string):\n",
    "    start = string.find('@')+2\n",
    "    end = string.find(',')\n",
    "    return string[start:end]\n",
    "def GetTopOff(string):\n",
    "    start = string.find(',')+1\n",
    "    end = string.find(':')\n",
    "    return string[start:end]\n",
    "def GetWidth(string):\n",
    "    start = string.find(':')+2\n",
    "    end = string.find('x')\n",
    "    return string[start:end]\n",
    "def GetLength(string):\n",
    "    start = string.find('x')+1\n",
    "    end = string.find('\\\\')\n",
    "    return string[start:end]\n",
    "\n",
    "with open('Day3_input.txt') as file:\n",
    "    dims = [ [GetClaim(r), GetLeftOff(r), GetTopOff(r),GetWidth(r),GetLength(r)] for r in file.readlines()]\n",
    "\n",
    "dims = pd.DataFrame(dims, columns = ['Claim','LeftOffset','TopOffset','Width','Length'],dtype=int)"
   ]
  },
  {
   "cell_type": "code",
   "execution_count": 17,
   "metadata": {},
   "outputs": [
    {
     "data": {
      "text/plain": [
       "(1000, 998)"
      ]
     },
     "execution_count": 17,
     "metadata": {},
     "output_type": "execute_result"
    }
   ],
   "source": [
    "max(dims.LeftOffset.values+dims.Width.values),max(dims.TopOffset.values+dims.Length.values)"
   ]
  },
  {
   "cell_type": "code",
   "execution_count": 20,
   "metadata": {},
   "outputs": [],
   "source": []
  },
  {
   "cell_type": "code",
   "execution_count": 10,
   "metadata": {},
   "outputs": [],
   "source": [
    "# GetTopOff('#13423 @ 1,3: 4x4')"
   ]
  },
  {
   "cell_type": "code",
   "execution_count": 21,
   "metadata": {},
   "outputs": [
    {
     "data": {
      "text/html": [
       "<div>\n",
       "<style>\n",
       "    .dataframe thead tr:only-child th {\n",
       "        text-align: right;\n",
       "    }\n",
       "\n",
       "    .dataframe thead th {\n",
       "        text-align: left;\n",
       "    }\n",
       "\n",
       "    .dataframe tbody tr th {\n",
       "        vertical-align: top;\n",
       "    }\n",
       "</style>\n",
       "<table border=\"1\" class=\"dataframe\">\n",
       "  <thead>\n",
       "    <tr style=\"text-align: right;\">\n",
       "      <th></th>\n",
       "      <th>Claim</th>\n",
       "      <th>LeftOffset</th>\n",
       "      <th>TopOffset</th>\n",
       "      <th>Width</th>\n",
       "      <th>Length</th>\n",
       "    </tr>\n",
       "  </thead>\n",
       "  <tbody>\n",
       "    <tr>\n",
       "      <th>0</th>\n",
       "      <td>1</td>\n",
       "      <td>55</td>\n",
       "      <td>885</td>\n",
       "      <td>22</td>\n",
       "      <td>10</td>\n",
       "    </tr>\n",
       "    <tr>\n",
       "      <th>1</th>\n",
       "      <td>2</td>\n",
       "      <td>102</td>\n",
       "      <td>14</td>\n",
       "      <td>23</td>\n",
       "      <td>14</td>\n",
       "    </tr>\n",
       "    <tr>\n",
       "      <th>2</th>\n",
       "      <td>3</td>\n",
       "      <td>539</td>\n",
       "      <td>327</td>\n",
       "      <td>21</td>\n",
       "      <td>22</td>\n",
       "    </tr>\n",
       "    <tr>\n",
       "      <th>3</th>\n",
       "      <td>4</td>\n",
       "      <td>429</td>\n",
       "      <td>353</td>\n",
       "      <td>14</td>\n",
       "      <td>25</td>\n",
       "    </tr>\n",
       "    <tr>\n",
       "      <th>4</th>\n",
       "      <td>5</td>\n",
       "      <td>232</td>\n",
       "      <td>934</td>\n",
       "      <td>29</td>\n",
       "      <td>11</td>\n",
       "    </tr>\n",
       "  </tbody>\n",
       "</table>\n",
       "</div>"
      ],
      "text/plain": [
       "   Claim  LeftOffset  TopOffset  Width  Length\n",
       "0      1          55        885     22      10\n",
       "1      2         102         14     23      14\n",
       "2      3         539        327     21      22\n",
       "3      4         429        353     14      25\n",
       "4      5         232        934     29      11"
      ]
     },
     "execution_count": 21,
     "metadata": {},
     "output_type": "execute_result"
    }
   ],
   "source": [
    "dims.head()"
   ]
  },
  {
   "cell_type": "code",
   "execution_count": 22,
   "metadata": {},
   "outputs": [],
   "source": [
    "def FillFabric(fabric, claim):\n",
    "    for x in range(claim['LeftOffset'],claim['LeftOffset']+claim['Width']):\n",
    "        for y in range(claim['TopOffset'],claim['TopOffset']+claim['Length']):\n",
    "            fabric[x][y]+=1\n",
    "    return fabric\n"
   ]
  },
  {
   "cell_type": "code",
   "execution_count": 23,
   "metadata": {},
   "outputs": [],
   "source": [
    "import numpy as np\n",
    "fabric = np.zeros((1000,1000))\n",
    "\n",
    "for idx,claim in dims.iterrows():\n",
    "    fabric = FillFabric(fabric,claim)"
   ]
  },
  {
   "cell_type": "code",
   "execution_count": 27,
   "metadata": {},
   "outputs": [
    {
     "data": {
      "text/plain": [
       "111266"
      ]
     },
     "execution_count": 27,
     "metadata": {},
     "output_type": "execute_result"
    }
   ],
   "source": [
    "len([i for i in fabric.flatten() if i>1])"
   ]
  },
  {
   "cell_type": "code",
   "execution_count": 28,
   "metadata": {},
   "outputs": [
    {
     "name": "stdout",
     "output_type": "stream",
     "text": [
      "266\n"
     ]
    }
   ],
   "source": [
    "def CheckClaim(fabric, claim):\n",
    "    unique_claim=True\n",
    "    for x in range(claim['LeftOffset'],claim['LeftOffset']+claim['Width']):\n",
    "        for y in range(claim['TopOffset'],claim['TopOffset']+claim['Length']):\n",
    "            if fabric[x][y]>1:\n",
    "                unique_claim=False\n",
    "    return unique_claim\n",
    "\n",
    "for idx,claim in dims.iterrows():\n",
    "    if CheckClaim(fabric,claim):\n",
    "        print(claim['Claim'])"
   ]
  },
  {
   "cell_type": "code",
   "execution_count": null,
   "metadata": {},
   "outputs": [],
   "source": []
  }
 ],
 "metadata": {
  "kernelspec": {
   "display_name": "Python 3",
   "language": "python",
   "name": "python3"
  },
  "language_info": {
   "codemirror_mode": {
    "name": "ipython",
    "version": 3
   },
   "file_extension": ".py",
   "mimetype": "text/x-python",
   "name": "python",
   "nbconvert_exporter": "python",
   "pygments_lexer": "ipython3",
   "version": "3.6.6"
  }
 },
 "nbformat": 4,
 "nbformat_minor": 2
}
