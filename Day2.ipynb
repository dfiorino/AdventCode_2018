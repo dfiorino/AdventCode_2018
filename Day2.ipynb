{
 "cells": [
  {
   "cell_type": "code",
   "execution_count": 4,
   "metadata": {},
   "outputs": [],
   "source": [
    "with open('Day2_input.txt') as file:\n",
    "    letters = [r.rstrip('\\n') for r in file.readlines()]"
   ]
  },
  {
   "cell_type": "code",
   "execution_count": 8,
   "metadata": {},
   "outputs": [],
   "source": [
    "twos = 0\n",
    "threes = 0\n",
    "\n",
    "for word in letters:\n",
    "    istwo=False\n",
    "    isthree=False\n",
    "    for w in set(word):\n",
    "        count = word.count(w)\n",
    "        if istwo and isthree:\n",
    "            continue\n",
    "        if count==2:\n",
    "            istwo=True\n",
    "        if count==3:\n",
    "            isthree=True\n",
    "    if istwo:\n",
    "        twos+=1\n",
    "    if isthree:\n",
    "        threes+=1\n",
    "        "
   ]
  },
  {
   "cell_type": "code",
   "execution_count": 10,
   "metadata": {},
   "outputs": [
    {
     "data": {
      "text/plain": [
       "(27, 248, 6696)"
      ]
     },
     "execution_count": 10,
     "metadata": {},
     "output_type": "execute_result"
    }
   ],
   "source": [
    "threes,twos,threes*twos"
   ]
  },
  {
   "cell_type": "code",
   "execution_count": 13,
   "metadata": {},
   "outputs": [
    {
     "data": {
      "text/plain": [
       "('bvhfawknyoqsudzrpgslecmtkj', 'bpufawcnyoqxldzrpgsleimtkj')"
      ]
     },
     "execution_count": 13,
     "metadata": {},
     "output_type": "execute_result"
    }
   ],
   "source": [
    "letters[0], letters[1]"
   ]
  },
  {
   "cell_type": "code",
   "execution_count": 14,
   "metadata": {},
   "outputs": [
    {
     "data": {
      "text/plain": [
       "{26}"
      ]
     },
     "execution_count": 14,
     "metadata": {},
     "output_type": "execute_result"
    }
   ],
   "source": [
    "set([len(l) for l in letters])"
   ]
  },
  {
   "cell_type": "code",
   "execution_count": 18,
   "metadata": {},
   "outputs": [
    {
     "name": "stdout",
     "output_type": "stream",
     "text": [
      "bpufawcnyoqxldzrpgsleimtkj\n",
      "bvhfawknyoqsudzrpgslecmtkj\n",
      "[0, 1, 1, 0, 0, 0, 1, 0, 0, 0, 0, 1, 1, 0, 0, 0, 0, 0, 0, 0, 0, 1, 0, 0, 0, 0]\n"
     ]
    }
   ],
   "source": [
    "word='bpufawcnyoqxldzrpgsleimtkj'\n",
    "word2='bvhfawknyoqsudzrpgslecmtkj'\n",
    "diffs = [ int(word[n] != word2[n]) for n in range(wordlen)]\n",
    "\n",
    "print(word)\n",
    "print(word2)\n",
    "print(diffs)"
   ]
  },
  {
   "cell_type": "code",
   "execution_count": 42,
   "metadata": {},
   "outputs": [
    {
     "name": "stdout",
     "output_type": "stream",
     "text": [
      "bvnfawcnyoeyudzrpgsleimtkj\n",
      "bvnfawcnyoeyudzrpgsldimtkj\n",
      "bvnfawcnyoeyudzrpgslimtkj\n"
     ]
    }
   ],
   "source": [
    "wordlen=len(letters[0])\n",
    "\n",
    "for i, word in enumerate(letters):\n",
    "    for word2 in letters[i+1:]:\n",
    "        diffs = sum([ int(word[n] != word2[n]) for n in range(wordlen)])\n",
    "        if diffs == 1:\n",
    "            print(word)\n",
    "            print(word2)\n",
    "            print(''.join([word[n]  for n in range(wordlen) if word[n]==word2[n]]))\n",
    "            break"
   ]
  },
  {
   "cell_type": "code",
   "execution_count": null,
   "metadata": {},
   "outputs": [],
   "source": []
  }
 ],
 "metadata": {
  "kernelspec": {
   "display_name": "Python 3",
   "language": "python",
   "name": "python3"
  },
  "language_info": {
   "codemirror_mode": {
    "name": "ipython",
    "version": 3
   },
   "file_extension": ".py",
   "mimetype": "text/x-python",
   "name": "python",
   "nbconvert_exporter": "python",
   "pygments_lexer": "ipython3",
   "version": "3.6.6"
  }
 },
 "nbformat": 4,
 "nbformat_minor": 2
}
